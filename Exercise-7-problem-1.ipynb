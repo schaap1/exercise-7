{
 "cells": [
  {
   "cell_type": "markdown",
   "metadata": {
    "deletable": false,
    "editable": false,
    "nbgrader": {
     "cell_type": "markdown",
     "checksum": "44f8195381347e24f5bd281323d34cd1",
     "grade": false,
     "grade_id": "cell-33948b9e14791c81",
     "locked": true,
     "schema_version": 3,
     "solution": false
    }
   },
   "source": [
    "## Problem 1: Simple scatter plot of random points (3 points)\n",
    "\n",
    "The aim of this task is to create a simple scatter plot using random input values and random colors!\n",
    "Finally, you will save the plot as `.png` file that should look something like this: \n",
    " \n",
    "![Example figure](img/problem1_example.png)\n",
    " \n",
    "Remember to also commit the image file into your GitHub repo!\n",
    "\n",
    "**NOTE**: You colors may look different from the image above depending on the colormap you are using!\n",
    "\n",
    "### Tips for completing this problem\n",
    "\n",
    "- Use **exactly** the same variable names as in the instructions because your answers will be automatically graded, and the tests that grade your answers rely on following the same formatting or variable naming as in the instructions.\n",
    "- **Please do not**:\n",
    "\n",
    "    - **Change the file names**. Do all of your editing in the provided `Exercise-7-problem-1.ipynb` file (this file).\n",
    "    - **Copy/paste cells in this notebook**. We use an automated grading system that will fail if there are copies of code cells.\n",
    "    - **Change the existing cell types**. You can add cells, but changing the cell types for existing cells (from code to markdown, for example) will also cause the automated grader to fail.\n",
    "\n",
    "### Scores for this problem\n",
    "\n",
    "**Your score on this problem will be based on following criteria:**\n",
    "\n",
    "- Creating a DataFrame containing 1000 x, y, and color values\n",
    "- Creating a scatter plot of these points as instructed\n",
    "- Adding a title and axis labels to the plot\n",
    "- Saving a copy of the plot as a PNG file and commiting it to your repo\n",
    "- Including comments that explain what most lines in the code do"
   ]
  },
  {
   "cell_type": "markdown",
   "metadata": {
    "deletable": false,
    "editable": false,
    "nbgrader": {
     "cell_type": "markdown",
     "checksum": "428e25ca7c8f623cb841c485d04ca852",
     "grade": false,
     "grade_id": "cell-e14321c99467daca",
     "locked": true,
     "schema_version": 3,
     "solution": false,
     "task": false
    }
   },
   "source": [
    "### Part 1 (0.5 points)\n",
    "\n",
    "Create an new data frame called `data` and add 1000 random numbers (of type `float`) into a new column `x` and another 1000 random numbers into a new column `y`."
   ]
  },
  {
   "cell_type": "code",
   "execution_count": null,
   "metadata": {
    "deletable": false,
    "nbgrader": {
     "cell_type": "code",
     "checksum": "ad9fd9adb2e167976bda52655f2e36e7",
     "grade": false,
     "grade_id": "problem_1_ag_p1_random_points",
     "locked": false,
     "schema_version": 3,
     "solution": true
    }
   },
   "outputs": [],
   "source": [
    "import numpy as np\n",
    "import pandas as pd\n",
    "\n",
    "# YOUR CODE HERE\n",
    "raise NotImplementedError()"
   ]
  },
  {
   "cell_type": "code",
   "execution_count": null,
   "metadata": {
    "deletable": false,
    "editable": false,
    "nbgrader": {
     "cell_type": "code",
     "checksum": "45152e3cb3772db34190ff3c4fe2f3c2",
     "grade": true,
     "grade_id": "problem_1_ag_p1_andom_points_test1",
     "locked": true,
     "points": 0.5,
     "schema_version": 3,
     "solution": false
    }
   },
   "outputs": [],
   "source": [
    "# Check your random values\n",
    "print(data.head())\n",
    "\n",
    "# Check that you have the correct number of rows\n",
    "assert len(data) == 1000, \"There should be 1000 rows of data.\""
   ]
  },
  {
   "cell_type": "markdown",
   "metadata": {
    "deletable": false,
    "editable": false,
    "nbgrader": {
     "cell_type": "markdown",
     "checksum": "dd6d4a02d585a1a4aab57b56250d8efd",
     "grade": false,
     "grade_id": "cell-7fb6a23ba6c8ea59",
     "locked": true,
     "schema_version": 3,
     "solution": false
    }
   },
   "source": [
    "### Part 2 (0.5 points)\n",
    "\n",
    "Create a variable `colors` in which you should store 1000 random values for the colors so that we get a little sweeter looking plot.\n",
    "\n",
    "The variable `colors` should be an array of random numbers, not a DataFrame column."
   ]
  },
  {
   "cell_type": "code",
   "execution_count": null,
   "metadata": {
    "deletable": false,
    "nbgrader": {
     "cell_type": "code",
     "checksum": "76b8105ca47daaa8b28e5f114f4b6dfc",
     "grade": false,
     "grade_id": "problem_1_ag_p2_colors",
     "locked": false,
     "schema_version": 3,
     "solution": true
    }
   },
   "outputs": [],
   "source": [
    "# YOUR CODE HERE\n",
    "raise NotImplementedError()"
   ]
  },
  {
   "cell_type": "code",
   "execution_count": null,
   "metadata": {
    "deletable": false,
    "editable": false,
    "nbgrader": {
     "cell_type": "code",
     "checksum": "22d6e655d2c4a37517e469e7790301ee",
     "grade": true,
     "grade_id": "problem_1_ag_p2_colors_test1",
     "locked": true,
     "points": 0.5,
     "schema_version": 3,
     "solution": false
    }
   },
   "outputs": [],
   "source": [
    "# This test print should print out 10 first numbers in the variable colors\n",
    "print(colors[0:10])\n",
    "\n",
    "# Check that the length matches\n",
    "assert len(colors) == 1000, \"There should be 1000 random numbers for colors\""
   ]
  },
  {
   "cell_type": "markdown",
   "metadata": {
    "deletable": false,
    "editable": false,
    "nbgrader": {
     "cell_type": "markdown",
     "checksum": "c8ccdedf85b1fa5d93925b4ca7a2ebac",
     "grade": false,
     "grade_id": "cell-4f766d991d40522f",
     "locked": true,
     "schema_version": 3,
     "solution": false
    }
   },
   "source": [
    "### Part 3 (2 points)\n",
    "\n",
    "#### Part 3.1\n",
    "\n",
    "Create a scatter plot of points with random colors.\n",
    "\n",
    "Make the scatter plot using `DataFrame.plot()` with the following options:\n",
    "\n",
    "- set the type of the plot using parameter `kind=scatter` (or use `DataFrame.plot.scatter()`)\n",
    "- modify the size of a point using the parameter `s` (the example plot uses `s=50`)\n",
    "- set the random colors for the points using the parameter `c`\n",
    "- set the color scheme using the parameter `colormap`\n",
    "    - The example image uses the `'rainbow'` colormap\n",
    "    - you can also choose another color map from here: https://matplotlib.org/stable/tutorials/colors/colormaps.html\n",
    "    - you can add a black outline around the points using the parameter `edgecolors`. The example uses `edgecolors='black'`.\n",
    "\n",
    "#### Part 3.2\n",
    "\n",
    "Add a title, x-label and y-label to your plot as shown in the example figure.\n",
    "\n",
    "- create the variables `title`, `xlabel` and `ylabel` and store the title and axis label text in them\n",
    "- use the pandas plotting parameters or `matplotlib.pyplot` methods to add the title and axis labels to the figure\n",
    "\n",
    "**Feel free to change the colors and markers in the plot :)**\n",
    "\n",
    "#### Part 3.3\n",
    "\n",
    "Create a variable `outputfp` with the output filename `my_first_plot.png` and save your plot as a PNG file into the disk (note: you have to save the file in the same code cell where you do the plotting). "
   ]
  },
  {
   "cell_type": "code",
   "execution_count": null,
   "metadata": {
    "deletable": false,
    "nbgrader": {
     "cell_type": "code",
     "checksum": "7c9f913561e6a0da3256d357694fdb8d",
     "grade": true,
     "grade_id": "problem_1_mg_p3_scatter_plot",
     "locked": false,
     "points": 1.5,
     "schema_version": 3,
     "solution": true
    }
   },
   "outputs": [],
   "source": [
    "%matplotlib inline\n",
    "\n",
    "# Plot a scatter plot\n",
    "# YOUR CODE HERE\n",
    "raise NotImplementedError()\n",
    "\n",
    "# Add labels and title (if not done above when creating the plot)\n",
    "# YOUR CODE HERE\n",
    "raise NotImplementedError()\n",
    "\n",
    "# Save the plot as a png file:\n",
    "outputfp = None\n",
    "\n",
    "# YOUR CODE HERE\n",
    "raise NotImplementedError()\n",
    "\n",
    "# This test print statement should print the output filename of your figure\n",
    "print(f'Saved my first plot as {outputfp}')"
   ]
  },
  {
   "cell_type": "code",
   "execution_count": null,
   "metadata": {
    "deletable": false,
    "editable": false,
    "nbgrader": {
     "cell_type": "code",
     "checksum": "12406c05630ae2c0c810603e33d512f7",
     "grade": true,
     "grade_id": "problem_1_ag_p3_outputfile_test",
     "locked": true,
     "points": 0.5,
     "schema_version": 3,
     "solution": false,
     "task": false
    }
   },
   "outputs": [],
   "source": [
    "# Check that the file exists (also go and open the file to check that everything is ok!)\n",
    "import os\n",
    "\n",
    "assert os.path.exists(outputfp), \"Can't find the output image.\""
   ]
  },
  {
   "cell_type": "markdown",
   "metadata": {
    "deletable": false,
    "editable": false,
    "nbgrader": {
     "cell_type": "markdown",
     "checksum": "066af550a346206f212bdd12779e95e2",
     "grade": false,
     "grade_id": "cell-ba40728abeff91e4",
     "locked": true,
     "schema_version": 3,
     "solution": false
    }
   },
   "source": [
    "Remember to commit your changes (including the image file) to your GitHub repo!\n",
    "\n",
    "### Done!\n",
    "\n",
    "Now you can move to [Problem 2](Exercise-7-problem-2.ipynb)."
   ]
  }
 ],
 "metadata": {
  "kernelspec": {
   "display_name": "Python 3 (ipykernel)",
   "language": "python",
   "name": "python3"
  },
  "language_info": {
   "codemirror_mode": {
    "name": "ipython",
    "version": 3
   },
   "file_extension": ".py",
   "mimetype": "text/x-python",
   "name": "python",
   "nbconvert_exporter": "python",
   "pygments_lexer": "ipython3",
   "version": "3.8.10"
  }
 },
 "nbformat": 4,
 "nbformat_minor": 4
}
